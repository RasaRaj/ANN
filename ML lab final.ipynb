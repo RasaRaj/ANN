{
  "nbformat": 4,
  "nbformat_minor": 0,
  "metadata": {
    "colab": {
      "provenance": [],
      "include_colab_link": true
    },
    "kernelspec": {
      "name": "python3",
      "display_name": "Python 3"
    },
    "language_info": {
      "name": "python"
    }
  },
  "cells": [
    {
      "cell_type": "markdown",
      "metadata": {
        "id": "view-in-github",
        "colab_type": "text"
      },
      "source": [
        "<a href=\"https://colab.research.google.com/github/RasaRaj/ANN/blob/main/ML%20lab%20final.ipynb\" target=\"_parent\"><img src=\"https://colab.research.google.com/assets/colab-badge.svg\" alt=\"Open In Colab\"/></a>"
      ]
    },
    {
      "cell_type": "code",
      "execution_count": null,
      "metadata": {
        "id": "Gco6UaAW9LNY"
      },
      "outputs": [],
      "source": [
        "import numpy as np \n",
        "import pandas as pd\n",
        "from sklearn.model_selection import train_test_split\n",
        "from sklearn.linear_model import LogisticRegression\n",
        "from sklearn.metrics import roc_curve, auc, confusion_matrix, classification_report\n",
        "from sklearn.tree import DecisionTreeClassifier\n",
        "from sklearn.naive_bayes import GaussianNB\n",
        "from sklearn.svm import SVC\n",
        "from sklearn. ensemble import RandomForestClassifier, BaggingClassifier, AdaBoostClassifier, VotingClassifier"
      ]
    },
    {
      "cell_type": "code",
      "source": [
        "df=pd.read_csv('custominfo.csv')\n",
        "df"
      ],
      "metadata": {
        "id": "ntk4HMiaAdWr"
      },
      "execution_count": null,
      "outputs": []
    },
    {
      "cell_type": "code",
      "source": [
        "\n",
        "df.head()"
      ],
      "metadata": {
        "id": "rLcaZUysUG8Q"
      },
      "execution_count": null,
      "outputs": []
    },
    {
      "cell_type": "code",
      "source": [
        "df.isnull().sum()"
      ],
      "metadata": {
        "id": "lAtZHAS3AxEF"
      },
      "execution_count": null,
      "outputs": []
    },
    {
      "cell_type": "code",
      "source": [
        "from sklearn.impute import SimpleImputer\n",
        "imp_mode= SimpleImputer (missing_values=np.nan, strategy='most_frequent')\n",
        "df_imputed=pd.DataFrame(imp_mode.fit_transform(df))\n",
        "df_imputed.columns=df.columns\n",
        "df_imputed"
      ],
      "metadata": {
        "id": "Q_9vnH2AA29f"
      },
      "execution_count": null,
      "outputs": []
    },
    {
      "cell_type": "code",
      "source": [
        "df_imputed.isnull().sum()\n"
      ],
      "metadata": {
        "id": "na0n4b3tA_T9"
      },
      "execution_count": null,
      "outputs": []
    },
    {
      "cell_type": "code",
      "source": [
        "#outliear\n",
        "import seaborn as sns\n",
        "\n",
        "sns.boxplot(x=\"Age\", data=df_imputed)"
      ],
      "metadata": {
        "id": "2NiBq71GDHNd"
      },
      "execution_count": null,
      "outputs": []
    },
    {
      "cell_type": "code",
      "source": [
        "#outliear\n",
        "import seaborn as sns\n",
        "\n",
        "sns.boxplot(x=\"Income\", data=df_imputed)"
      ],
      "metadata": {
        "id": "NPNLF4zMHFtQ"
      },
      "execution_count": null,
      "outputs": []
    },
    {
      "cell_type": "code",
      "source": [
        "#outliear\n",
        "import seaborn as sns\n",
        "\n",
        "sns.boxplot(x=\"credit\", data=df_imputed)"
      ],
      "metadata": {
        "id": "1-WG_KdlHeZS"
      },
      "execution_count": null,
      "outputs": []
    },
    {
      "cell_type": "code",
      "source": [
        "most_frequent_value = df[\"Age\"].mode()[0]\n",
        "most_frequent_value"
      ],
      "metadata": {
        "colab": {
          "base_uri": "https://localhost:8080/"
        },
        "id": "Qd7ZB3QFH7m_",
        "outputId": "15dfe1bb-b2c2-41f8-8c4c-0671b9de024e"
      },
      "execution_count": null,
      "outputs": [
        {
          "output_type": "execute_result",
          "data": {
            "text/plain": [
              "20.0"
            ]
          },
          "metadata": {},
          "execution_count": 167
        }
      ]
    },
    {
      "cell_type": "code",
      "source": [
        "df_imputed.loc[df[\"Age\"] == 500, \"Age\"] = most_frequent_value"
      ],
      "metadata": {
        "id": "x6spI1k7IGDs"
      },
      "execution_count": null,
      "outputs": []
    },
    {
      "cell_type": "code",
      "source": [
        "#outliear\n",
        "import seaborn as sns\n",
        "\n",
        "sns.boxplot(x=\"Age\", data=df_imputed)"
      ],
      "metadata": {
        "id": "Uowx54ThIowL"
      },
      "execution_count": null,
      "outputs": []
    },
    {
      "cell_type": "code",
      "source": [
        "most_frequent_value = df[\"Age\"].mode()[0]\n",
        "most_frequent_value"
      ],
      "metadata": {
        "id": "zP2yfZ5ML2Zw"
      },
      "execution_count": null,
      "outputs": []
    },
    {
      "cell_type": "code",
      "source": [
        "df_imputed.loc[df[\"Age\"] == 900, \"Age\"] = most_frequent_value"
      ],
      "metadata": {
        "id": "heKDpJ5NL7C3"
      },
      "execution_count": null,
      "outputs": []
    },
    {
      "cell_type": "code",
      "source": [
        "#outliear\n",
        "import seaborn as sns\n",
        "\n",
        "sns.boxplot(x=\"Age\", data=df_imputed)"
      ],
      "metadata": {
        "id": "PCxGahnyL-wY"
      },
      "execution_count": null,
      "outputs": []
    },
    {
      "cell_type": "code",
      "source": [
        "#encoding\n",
        "from sklearn import preprocessing\n",
        "df_enco=df_imputed.apply(preprocessing.LabelEncoder().fit_transform)\n",
        "df_enco"
      ],
      "metadata": {
        "id": "A85bQC6gL_2h"
      },
      "execution_count": null,
      "outputs": []
    },
    {
      "cell_type": "code",
      "source": [
        "X= df_enco.iloc[:,1:-1] \n",
        "y = df_enco.iloc[:,-1]"
      ],
      "metadata": {
        "id": "95ihgntzNQ5g"
      },
      "execution_count": null,
      "outputs": []
    },
    {
      "cell_type": "code",
      "source": [
        "X"
      ],
      "metadata": {
        "id": "xP5HYXHqODUc"
      },
      "execution_count": null,
      "outputs": []
    },
    {
      "cell_type": "code",
      "source": [
        "y"
      ],
      "metadata": {
        "id": "DujGEkDoOG7c"
      },
      "execution_count": null,
      "outputs": []
    },
    {
      "cell_type": "code",
      "source": [
        "#normalization\n",
        "from sklearn.preprocessing import StandardScaler\n",
        "scaler=StandardScaler()\n",
        "scaler.fit(X)"
      ],
      "metadata": {
        "id": "YgN4Dr0cU9BK"
      },
      "execution_count": null,
      "outputs": []
    },
    {
      "cell_type": "code",
      "source": [
        "#scaler = MinMaxScaler(feature_range=(0, 1))\n",
        "#X = scaler.fit_transform(X)"
      ],
      "metadata": {
        "id": "F6mhf3thVWG6"
      },
      "execution_count": null,
      "outputs": []
    },
    {
      "cell_type": "code",
      "source": [
        "#from sklearn.model_selection import cross_val_score\n",
        "#from sklearn.model_selection import StratifiedKFold\n",
        "#skfold=StratifiedKFold(n_splits=10)\n",
        "#model=DecisionTreeClassifier()\n",
        "#scores=cross_val_score(model,X,y,cv=skfold)\n",
        "#print(np.mean(scores))"
      ],
      "metadata": {
        "id": "eCOyoIcZXISr"
      },
      "execution_count": null,
      "outputs": []
    },
    {
      "cell_type": "code",
      "source": [
        "X_train, X_test, y_train, y_test = train_test_split(X, y, test_size=0.20, random_state=4)"
      ],
      "metadata": {
        "id": "YwVIyziGOKkk"
      },
      "execution_count": null,
      "outputs": []
    },
    {
      "cell_type": "code",
      "source": [
        "from sklearn.decomposition import PCA\n",
        "#pca = PCA()               # All components\n",
        "pca = PCA(n_components=1)   #1 components\n",
        "#pca = PCA(n_components=2) # 2 components\n",
        "X_train = pca.fit_transform(X_train)\n",
        "X_test = pca.transform(X_test)\n"
      ],
      "metadata": {
        "id": "7o7gKL0CaBNB"
      },
      "execution_count": null,
      "outputs": []
    },
    {
      "cell_type": "code",
      "source": [
        "from sklearn.ensemble import RandomForestClassifier\n",
        "from sklearn.linear_model import LogisticRegression\n",
        "from sklearn.svm import SVC\n",
        "from sklearn.neighbors import KNeighborsClassifier\n",
        "from sklearn.tree import DecisionTreeClassifier"
      ],
      "metadata": {
        "id": "QcSbWZ99Of86"
      },
      "execution_count": null,
      "outputs": []
    },
    {
      "cell_type": "code",
      "source": [
        "model1=RandomForestClassifier()\n",
        "#model2=LogisticRegression()\n",
        "model=SVC(probability=True)\n",
        "#model4 = KNeighborsClassifier()\n",
        "# model5 = DecisionTreeClassifier()\n",
        "\n"
      ],
      "metadata": {
        "id": "HG_f3zGyOzU3"
      },
      "execution_count": null,
      "outputs": []
    },
    {
      "cell_type": "code",
      "source": [
        "model.fit(X_train,y_train)"
      ],
      "metadata": {
        "id": "LcgCUN-2Pmvt"
      },
      "execution_count": null,
      "outputs": []
    },
    {
      "cell_type": "code",
      "source": [
        "model1.fit(X_train,y_train)"
      ],
      "metadata": {
        "id": "YpxTsLoXZiRS"
      },
      "execution_count": null,
      "outputs": []
    },
    {
      "cell_type": "code",
      "source": [
        "y_predict=model.predict(X_test)"
      ],
      "metadata": {
        "id": "E_Zj9VOjPmrk"
      },
      "execution_count": null,
      "outputs": []
    },
    {
      "cell_type": "code",
      "source": [
        "y_predict"
      ],
      "metadata": {
        "id": "scmkKRNfQx-q"
      },
      "execution_count": null,
      "outputs": []
    },
    {
      "cell_type": "code",
      "source": [
        "from sklearn.metrics import accuracy_score\n",
        "ac=accuracy_score(y_predict,y_test)\n",
        "ac"
      ],
      "metadata": {
        "id": "3hm7NF8gRK_3"
      },
      "execution_count": null,
      "outputs": []
    },
    {
      "cell_type": "code",
      "source": [
        "from sklearn.metrics import confusion_matrix"
      ],
      "metadata": {
        "id": "N5mNOwPtPmo6"
      },
      "execution_count": null,
      "outputs": []
    },
    {
      "cell_type": "code",
      "source": [
        "cm=confusion_matrix(y_predict,y_test)\n",
        "cm"
      ],
      "metadata": {
        "id": "QgZqA4j-P52X"
      },
      "execution_count": null,
      "outputs": []
    },
    {
      "cell_type": "code",
      "source": [
        "from sklearn.metrics import classification_report"
      ],
      "metadata": {
        "id": "n6FscKecP5ym"
      },
      "execution_count": null,
      "outputs": []
    },
    {
      "cell_type": "code",
      "source": [
        "cr=classification_report(y_predict,y_test)\n",
        "print(cr)"
      ],
      "metadata": {
        "id": "GDvUat_CP5vC"
      },
      "execution_count": null,
      "outputs": []
    },
    {
      "cell_type": "code",
      "source": [
        "# predict the probabilities and labels on the testing data\n",
        "y_proba = model.predict_proba(X_test)[:, 1]\n",
        "y_pred = model.predict(X_test)"
      ],
      "metadata": {
        "id": "XWVCl1UlRoDz"
      },
      "execution_count": null,
      "outputs": []
    },
    {
      "cell_type": "code",
      "source": [
        "from sklearn.metrics import roc_curve, roc_auc_score\n",
        "fpr, tpr, thresholds = roc_curve(y_test, y_proba)\n",
        "roc_auc = roc_auc_score(y_test, y_proba)"
      ],
      "metadata": {
        "id": "GPJTBIOrQFQO"
      },
      "execution_count": null,
      "outputs": []
    },
    {
      "cell_type": "code",
      "source": [
        "# plot the ROC curve\n",
        "import matplotlib.pyplot as plt\n",
        "plt.plot(fpr, tpr, label='ROC curve (area = %0.2f)' % roc_auc)\n",
        "plt.plot([0, 1], [0, 1], 'k--')\n",
        "plt.xlim([0.0, 1.0])\n",
        "plt.ylim([0.0, 1.05])\n",
        "plt.xlabel('False Positive Rate')\n",
        "plt.ylabel('True Positive Rate')\n",
        "plt.title('Receiver operating characteristic')\n",
        "plt.legend(loc=\"lower right\")\n",
        "plt.show()"
      ],
      "metadata": {
        "id": "CksvCdFmQOZ6"
      },
      "execution_count": null,
      "outputs": []
    },
    {
      "cell_type": "code",
      "source": [],
      "metadata": {
        "id": "OIhVgVJORGd8"
      },
      "execution_count": null,
      "outputs": []
    }
  ]
}